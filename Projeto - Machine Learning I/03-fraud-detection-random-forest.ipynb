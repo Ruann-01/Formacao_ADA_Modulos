{
  "nbformat": 4,
  "nbformat_minor": 0,
  "metadata": {
    "colab": {
      "provenance": []
    },
    "kernelspec": {
      "name": "python3",
      "display_name": "Python 3"
    },
    "language_info": {
      "name": "python"
    }
  },
  "cells": [
    {
      "cell_type": "code",
      "execution_count": null,
      "metadata": {
        "id": "RkwZYmrb0DvT"
      },
      "outputs": [],
      "source": [
        "from google.colab import drive\n",
        "drive.mount('/content/drive')\n",
        "\n",
        "import numpy as np\n",
        "import pandas as pd\n",
        "from sklearn.ensemble import RandomForestClassifier\n",
        "from sklearn.metrics import accuracy_score, classification_report\n",
        "from sklearn.preprocessing import StandardScaler\n",
        "from sklearn.model_selection import GridSearchCV\n",
        "from sklearn.model_selection import train_test_split\n",
        "from imblearn.over_sampling import SMOTE\n",
        "from imblearn.under_sampling import NearMiss"
      ]
    },
    {
      "cell_type": "code",
      "source": [
        "# df_train = pd.read_csv(r'./fraudTrain.csv')\n",
        "# df_test = pd.read_csv(r'./fraudTest.csv')\n",
        "pd.set_option('display.max_columns', None)\n",
        "df_test = pd.read_csv(r'/content/drive/MyDrive/fraud_dataset/fraudTest.csv')\n",
        "df_train = pd.read_csv(r'/content/drive/MyDrive/fraud_dataset/fraudTrain.csv')\n",
        "\n",
        "def pre_processing(X):\n",
        "\n",
        "    X = pd.get_dummies(X, columns=['category'], prefix='category')\n",
        "\n",
        "    X['gender']=X['gender'].apply(lambda x : 1 if x=='M' else 0)\n",
        "    X['gender']=X['gender'].astype(int)\n",
        "\n",
        "    # Delete das colunas não utilizadas\n",
        "    del_col=['merchant','first','last','street','zip','unix_time','Unnamed: 0','trans_num','cc_num', 'city','trans_date_trans_time','state','job','merch_lat','merch_long','lat','long','dob']\n",
        "    X.drop(columns=del_col,inplace=True)\n",
        "\n",
        "\n",
        "    return X\n",
        "\n",
        "df_train_pp = pre_processing(df_train.copy())\n",
        "df_test_pp = pre_processing(df_test.copy())\n"
      ],
      "metadata": {
        "id": "oVEn05vk1RdE"
      },
      "execution_count": null,
      "outputs": []
    },
    {
      "cell_type": "code",
      "source": [
        "x_train=df_train_pp.drop('is_fraud',axis=1)\n",
        "y_train=df_train_pp['is_fraud']\n",
        "x_test=df_test_pp.drop('is_fraud',axis=1)\n",
        "y_test=df_test_pp['is_fraud']\n",
        "\n",
        "smt=SMOTE(sampling_strategy=0.4)\n",
        "x_train, y_train = smt.fit_resample(x_train, y_train)\n",
        "\n"
      ],
      "metadata": {
        "id": "JEG5mHvroC9R"
      },
      "execution_count": null,
      "outputs": []
    },
    {
      "cell_type": "code",
      "source": [
        "%%time\n",
        "nr=NearMiss()\n",
        "x_train, y_train = nr.fit_resample(x_train, y_train)"
      ],
      "metadata": {
        "colab": {
          "base_uri": "https://localhost:8080/"
        },
        "id": "YK9tKEHcoIUI",
        "outputId": "527ac0ba-c29b-45a9-f658-736b5f9b3a2e"
      },
      "execution_count": null,
      "outputs": [
        {
          "output_type": "stream",
          "name": "stdout",
          "text": [
            "CPU times: user 1h 30min 8s, sys: 4.64 s, total: 1h 30min 13s\n",
            "Wall time: 54min 23s\n"
          ]
        }
      ]
    },
    {
      "cell_type": "code",
      "source": [
        "scaler = StandardScaler()\n",
        "scaler.fit(x_train)\n",
        "x_train=scaler.transform(x_train)\n",
        "x_test=scaler.transform(x_test)"
      ],
      "metadata": {
        "id": "Zku47jz3oL9b"
      },
      "execution_count": null,
      "outputs": []
    },
    {
      "cell_type": "code",
      "source": [
        "%%time\n",
        "param_grid = {\n",
        "    \"criterion\": ['entropy', 'gini'],\n",
        "    'n_estimators': [50 , 100, 150],\n",
        "    'max_depth': [3, 5, 15],\n",
        "    'min_samples_split': [5, 10, 20],\n",
        "    'bootstrap': [True, False]\n",
        "}\n",
        "\n",
        "grid_search = GridSearchCV(estimator=RandomForestClassifier(random_state=42),\n",
        "                           param_grid=param_grid, cv=3, scoring='accuracy')\n",
        "\n",
        "grid_search.fit(x_train, y_train)\n",
        "print(\"Melhores Hiperparâmetros:\", grid_search.best_params_)\n",
        "\n",
        "best_rf = grid_search.best_estimator_\n",
        "best_rf.fit(x_train, y_train)\n",
        "y_pred_best_rf = best_rf.predict(x_test)\n",
        "accuracy_best_rf = accuracy_score(y_test, y_pred_best_rf)\n",
        "print(\"Acurácia com Melhores Hiperparâmetros:\", accuracy_best_rf)\n",
        "print(\"\\nClassificação por Random Forest:\\n\", classification_report(y_test, y_pred_best_rf))"
      ],
      "metadata": {
        "colab": {
          "base_uri": "https://localhost:8080/"
        },
        "id": "7dBZZ1MHPcgy",
        "outputId": "9d0d33cf-9bdf-4d4b-a979-10b9ba628acb"
      },
      "execution_count": null,
      "outputs": [
        {
          "output_type": "stream",
          "name": "stdout",
          "text": [
            "Melhores Hiperparâmetros: {'bootstrap': True, 'criterion': 'gini', 'max_depth': 15, 'min_samples_split': 5, 'n_estimators': 50}\n",
            "Acurácia com Melhores Hiperparâmetros: 0.9918969839073345\n",
            "\n",
            "Classificação por Random Forest:\n",
            "               precision    recall  f1-score   support\n",
            "\n",
            "           0       1.00      0.99      1.00    553574\n",
            "           1       0.30      0.85      0.45      2145\n",
            "\n",
            "    accuracy                           0.99    555719\n",
            "   macro avg       0.65      0.92      0.72    555719\n",
            "weighted avg       1.00      0.99      0.99    555719\n",
            "\n",
            "CPU times: user 5h 55min 46s, sys: 30.4 s, total: 5h 56min 17s\n",
            "Wall time: 5h 57min 19s\n"
          ]
        }
      ]
    },
    {
      "cell_type": "code",
      "source": [],
      "metadata": {
        "id": "qMwbnE_XXPht"
      },
      "execution_count": null,
      "outputs": []
    }
  ]
}